{
 "cells": [
  {
   "cell_type": "markdown",
   "id": "a9523894",
   "metadata": {},
   "source": [
    "# Video Game Sales\n"
   ]
  },
  {
   "cell_type": "code",
   "execution_count": 13,
   "id": "950ea812",
   "metadata": {},
   "outputs": [
    {
     "name": "stdout",
     "output_type": "stream",
     "text": [
      "Fuente: real | shape: (16598, 11)\n"
     ]
    },
    {
     "data": {
      "text/html": [
       "<div>\n",
       "<style scoped>\n",
       "    .dataframe tbody tr th:only-of-type {\n",
       "        vertical-align: middle;\n",
       "    }\n",
       "\n",
       "    .dataframe tbody tr th {\n",
       "        vertical-align: top;\n",
       "    }\n",
       "\n",
       "    .dataframe thead th {\n",
       "        text-align: right;\n",
       "    }\n",
       "</style>\n",
       "<table border=\"1\" class=\"dataframe\">\n",
       "  <thead>\n",
       "    <tr style=\"text-align: right;\">\n",
       "      <th></th>\n",
       "      <th>Rank</th>\n",
       "      <th>Name</th>\n",
       "      <th>Platform</th>\n",
       "      <th>Year</th>\n",
       "      <th>Genre</th>\n",
       "      <th>Publisher</th>\n",
       "      <th>NA_Sales</th>\n",
       "      <th>EU_Sales</th>\n",
       "      <th>JP_Sales</th>\n",
       "      <th>Other_Sales</th>\n",
       "      <th>Global_Sales</th>\n",
       "    </tr>\n",
       "  </thead>\n",
       "  <tbody>\n",
       "    <tr>\n",
       "      <th>0</th>\n",
       "      <td>1</td>\n",
       "      <td>Wii Sports</td>\n",
       "      <td>Wii</td>\n",
       "      <td>2006.0</td>\n",
       "      <td>Sports</td>\n",
       "      <td>Nintendo</td>\n",
       "      <td>41.49</td>\n",
       "      <td>29.02</td>\n",
       "      <td>3.77</td>\n",
       "      <td>8.46</td>\n",
       "      <td>82.74</td>\n",
       "    </tr>\n",
       "    <tr>\n",
       "      <th>1</th>\n",
       "      <td>2</td>\n",
       "      <td>Super Mario Bros.</td>\n",
       "      <td>NES</td>\n",
       "      <td>1985.0</td>\n",
       "      <td>Platform</td>\n",
       "      <td>Nintendo</td>\n",
       "      <td>29.08</td>\n",
       "      <td>3.58</td>\n",
       "      <td>6.81</td>\n",
       "      <td>0.77</td>\n",
       "      <td>40.24</td>\n",
       "    </tr>\n",
       "    <tr>\n",
       "      <th>2</th>\n",
       "      <td>3</td>\n",
       "      <td>Mario Kart Wii</td>\n",
       "      <td>Wii</td>\n",
       "      <td>2008.0</td>\n",
       "      <td>Racing</td>\n",
       "      <td>Nintendo</td>\n",
       "      <td>15.85</td>\n",
       "      <td>12.88</td>\n",
       "      <td>3.79</td>\n",
       "      <td>3.31</td>\n",
       "      <td>35.82</td>\n",
       "    </tr>\n",
       "    <tr>\n",
       "      <th>3</th>\n",
       "      <td>4</td>\n",
       "      <td>Wii Sports Resort</td>\n",
       "      <td>Wii</td>\n",
       "      <td>2009.0</td>\n",
       "      <td>Sports</td>\n",
       "      <td>Nintendo</td>\n",
       "      <td>15.75</td>\n",
       "      <td>11.01</td>\n",
       "      <td>3.28</td>\n",
       "      <td>2.96</td>\n",
       "      <td>33.00</td>\n",
       "    </tr>\n",
       "    <tr>\n",
       "      <th>4</th>\n",
       "      <td>5</td>\n",
       "      <td>Pokemon Red/Pokemon Blue</td>\n",
       "      <td>GB</td>\n",
       "      <td>1996.0</td>\n",
       "      <td>Role-Playing</td>\n",
       "      <td>Nintendo</td>\n",
       "      <td>11.27</td>\n",
       "      <td>8.89</td>\n",
       "      <td>10.22</td>\n",
       "      <td>1.00</td>\n",
       "      <td>31.37</td>\n",
       "    </tr>\n",
       "  </tbody>\n",
       "</table>\n",
       "</div>"
      ],
      "text/plain": [
       "   Rank                      Name Platform    Year         Genre Publisher  \\\n",
       "0     1                Wii Sports      Wii  2006.0        Sports  Nintendo   \n",
       "1     2         Super Mario Bros.      NES  1985.0      Platform  Nintendo   \n",
       "2     3            Mario Kart Wii      Wii  2008.0        Racing  Nintendo   \n",
       "3     4         Wii Sports Resort      Wii  2009.0        Sports  Nintendo   \n",
       "4     5  Pokemon Red/Pokemon Blue       GB  1996.0  Role-Playing  Nintendo   \n",
       "\n",
       "   NA_Sales  EU_Sales  JP_Sales  Other_Sales  Global_Sales  \n",
       "0     41.49     29.02      3.77         8.46         82.74  \n",
       "1     29.08      3.58      6.81         0.77         40.24  \n",
       "2     15.85     12.88      3.79         3.31         35.82  \n",
       "3     15.75     11.01      3.28         2.96         33.00  \n",
       "4     11.27      8.89     10.22         1.00         31.37  "
      ]
     },
     "execution_count": 13,
     "metadata": {},
     "output_type": "execute_result"
    }
   ],
   "source": [
    "\n",
    "import os\n",
    "import pandas as pd\n",
    "import numpy as np\n",
    "import matplotlib.pyplot as plt\n",
    "\n",
    "pd.set_option(\"display.max_columns\", 50)\n",
    "DATA_PATH = \"vgsales.csv\"\n",
    "\n",
    "def load_vgsales():\n",
    "    if os.path.exists(DATA_PATH):\n",
    "        df = pd.read_csv(DATA_PATH)\n",
    "        source = \"real\"\n",
    "    else:\n",
    "        # Mini dataset de ejemplo con NaN y duplicados\n",
    "        data = {\n",
    "            \"Rank\":[1,2,3,4,5,6],\n",
    "            \"Name\":[\"Wii Sports\",\"Tetris\",\"GTA V\",\"Mario Kart Wii\",\"Halo 3\",\"Tetris\"],\n",
    "            \"Platform\":[\"Wii\",\"GB\",\"PS4\",\"Wii\",\"X360\",\"GB\"],\n",
    "            \"Year\":[2006,1989,2014,2008,np.nan,1989],\n",
    "            \"Genre\":[\"Sports\",\"Puzzle\",\"Action\",\"Racing\",\"Shooter\",\"Puzzle\"],\n",
    "            \"Publisher\":[\"Nintendo\",\"Nintendo\",np.nan,\"Nintendo\",\"Microsoft\",\"Nintendo\"],\n",
    "            \"NA_Sales\":[41.36,23.2,7.01,15.85,9.07,23.2],\n",
    "            \"EU_Sales\":[28.96,2.26,9.27,12.88,5.76,2.26],\n",
    "            \"JP_Sales\":[3.77,4.22,0.36,3.79,0.11,4.22],\n",
    "            \"Other_Sales\":[8.45,0.58,2.16,3.31,2.01,0.58],\n",
    "            \"Global_Sales\":[82.53,30.25,18.8,35.82,17.0,30.25]\n",
    "        }\n",
    "        df = pd.DataFrame(data)\n",
    "        source = \"sample\"\n",
    "    return df, source\n",
    "\n",
    "df_raw, source = load_vgsales()\n",
    "print(f\"Fuente: {source} | shape: {df_raw.shape}\")\n",
    "df_raw.head()\n"
   ]
  },
  {
   "cell_type": "markdown",
   "id": "195028ca",
   "metadata": {},
   "source": [
    "## 1) Valores faltantes — identificación"
   ]
  },
  {
   "cell_type": "code",
   "execution_count": 14,
   "id": "91424460",
   "metadata": {},
   "outputs": [
    {
     "data": {
      "text/html": [
       "<div>\n",
       "<style scoped>\n",
       "    .dataframe tbody tr th:only-of-type {\n",
       "        vertical-align: middle;\n",
       "    }\n",
       "\n",
       "    .dataframe tbody tr th {\n",
       "        vertical-align: top;\n",
       "    }\n",
       "\n",
       "    .dataframe thead th {\n",
       "        text-align: right;\n",
       "    }\n",
       "</style>\n",
       "<table border=\"1\" class=\"dataframe\">\n",
       "  <thead>\n",
       "    <tr style=\"text-align: right;\">\n",
       "      <th></th>\n",
       "      <th>missing_count</th>\n",
       "      <th>missing_%</th>\n",
       "    </tr>\n",
       "  </thead>\n",
       "  <tbody>\n",
       "    <tr>\n",
       "      <th>Year</th>\n",
       "      <td>271</td>\n",
       "      <td>1.63</td>\n",
       "    </tr>\n",
       "    <tr>\n",
       "      <th>Publisher</th>\n",
       "      <td>58</td>\n",
       "      <td>0.35</td>\n",
       "    </tr>\n",
       "    <tr>\n",
       "      <th>Rank</th>\n",
       "      <td>0</td>\n",
       "      <td>0.00</td>\n",
       "    </tr>\n",
       "    <tr>\n",
       "      <th>Platform</th>\n",
       "      <td>0</td>\n",
       "      <td>0.00</td>\n",
       "    </tr>\n",
       "    <tr>\n",
       "      <th>Name</th>\n",
       "      <td>0</td>\n",
       "      <td>0.00</td>\n",
       "    </tr>\n",
       "    <tr>\n",
       "      <th>Genre</th>\n",
       "      <td>0</td>\n",
       "      <td>0.00</td>\n",
       "    </tr>\n",
       "    <tr>\n",
       "      <th>NA_Sales</th>\n",
       "      <td>0</td>\n",
       "      <td>0.00</td>\n",
       "    </tr>\n",
       "    <tr>\n",
       "      <th>EU_Sales</th>\n",
       "      <td>0</td>\n",
       "      <td>0.00</td>\n",
       "    </tr>\n",
       "    <tr>\n",
       "      <th>JP_Sales</th>\n",
       "      <td>0</td>\n",
       "      <td>0.00</td>\n",
       "    </tr>\n",
       "    <tr>\n",
       "      <th>Other_Sales</th>\n",
       "      <td>0</td>\n",
       "      <td>0.00</td>\n",
       "    </tr>\n",
       "    <tr>\n",
       "      <th>Global_Sales</th>\n",
       "      <td>0</td>\n",
       "      <td>0.00</td>\n",
       "    </tr>\n",
       "  </tbody>\n",
       "</table>\n",
       "</div>"
      ],
      "text/plain": [
       "              missing_count  missing_%\n",
       "Year                    271       1.63\n",
       "Publisher                58       0.35\n",
       "Rank                      0       0.00\n",
       "Platform                  0       0.00\n",
       "Name                      0       0.00\n",
       "Genre                     0       0.00\n",
       "NA_Sales                  0       0.00\n",
       "EU_Sales                  0       0.00\n",
       "JP_Sales                  0       0.00\n",
       "Other_Sales               0       0.00\n",
       "Global_Sales              0       0.00"
      ]
     },
     "execution_count": 14,
     "metadata": {},
     "output_type": "execute_result"
    }
   ],
   "source": [
    "\n",
    "missing_count = df_raw.isna().sum().sort_values(ascending=False)\n",
    "missing_pct = (df_raw.isna().mean()*100).sort_values(ascending=False).round(2)\n",
    "missing_report = pd.concat([missing_count, missing_pct], axis=1)\n",
    "missing_report.columns = [\"missing_count\",\"missing_%\"]\n",
    "missing_report\n"
   ]
  },
  {
   "cell_type": "markdown",
   "id": "43e254b7",
   "metadata": {},
   "source": [
    "### Comentario de justificación"
   ]
  },
  {
   "cell_type": "markdown",
   "id": "34f14959",
   "metadata": {},
   "source": [
    "**Categóricas (Publisher, Genre, Platform, Rating):**\n",
    "En este dataset, si un valor como Publisher falta, no significa que no exista editorial, sino que la fuente no la registró. Usar la moda (el valor más frecuente) es una forma práctica de imputación porque refleja la editorial o categoría más habitual y evita generar etiquetas artificiales como “Unknown”, que no aportan información al modelo. Sin embargo, hay que reconocer que esta estrategia puede ocultar la diversidad de publishers menores, pero es útil si los faltantes son pocos.\n",
    "\n",
    "**Numéricas (Year):**\n",
    "El Year de lanzamiento tiene una distribución sesgada (más juegos en 2000s–2010s, pocos en los 80s). Si falta el año de un juego, imputar con la mediana (alrededor de los años donde hay más concentración de lanzamientos) reduce el impacto de valores extremos (juegos muy viejos o muy recientes). Esto permite mantener coherencia temporal sin distorsionar el análisis"
   ]
  },
  {
   "cell_type": "markdown",
   "id": "a553a766",
   "metadata": {},
   "source": [
    "## 1.1) Imputación ejecutada"
   ]
  },
  {
   "cell_type": "code",
   "execution_count": 15,
   "id": "8fd5f90b",
   "metadata": {},
   "outputs": [
    {
     "name": "stdout",
     "output_type": "stream",
     "text": [
      "Publisher: imputado con moda 'Electronic Arts'\n",
      "Year: imputado con mediana 2007.0\n"
     ]
    },
    {
     "data": {
      "text/plain": [
       "Rank            0\n",
       "Name            0\n",
       "Platform        0\n",
       "Year            0\n",
       "Genre           0\n",
       "Publisher       0\n",
       "NA_Sales        0\n",
       "EU_Sales        0\n",
       "JP_Sales        0\n",
       "Other_Sales     0\n",
       "Global_Sales    0\n",
       "dtype: int64"
      ]
     },
     "execution_count": 15,
     "metadata": {},
     "output_type": "execute_result"
    }
   ],
   "source": [
    "\n",
    "df = df_raw.copy()\n",
    "\n",
    "# Imputación categóricas: moda\n",
    "categorical_cols = [\"Name\",\"Platform\",\"Genre\",\"Publisher\"]\n",
    "for col in categorical_cols:\n",
    "    if df[col].isna().any():\n",
    "        mode_val = df[col].mode()[0]\n",
    "        df[col] = df[col].fillna(mode_val)\n",
    "        print(f\"{col}: imputado con moda '{mode_val}'\")\n",
    "\n",
    "# Imputación numéricas: mediana\n",
    "num_cols = [\"Year\",\"NA_Sales\",\"EU_Sales\",\"JP_Sales\",\"Other_Sales\",\"Global_Sales\"]\n",
    "for col in num_cols:\n",
    "    if df[col].isna().any():\n",
    "        median_val = df[col].median()\n",
    "        df[col] = df[col].fillna(median_val)\n",
    "        print(f\"{col}: imputado con mediana {median_val}\")\n",
    "\n",
    "df.isna().sum()\n"
   ]
  },
  {
   "cell_type": "markdown",
   "id": "9739e4f3",
   "metadata": {},
   "source": [
    "## 2) Duplicados"
   ]
  },
  {
   "cell_type": "code",
   "execution_count": 16,
   "id": "498088de",
   "metadata": {},
   "outputs": [
    {
     "name": "stdout",
     "output_type": "stream",
     "text": [
      "Duplicados detectados: 4\n"
     ]
    },
    {
     "data": {
      "text/html": [
       "<div>\n",
       "<style scoped>\n",
       "    .dataframe tbody tr th:only-of-type {\n",
       "        vertical-align: middle;\n",
       "    }\n",
       "\n",
       "    .dataframe tbody tr th {\n",
       "        vertical-align: top;\n",
       "    }\n",
       "\n",
       "    .dataframe thead th {\n",
       "        text-align: right;\n",
       "    }\n",
       "</style>\n",
       "<table border=\"1\" class=\"dataframe\">\n",
       "  <thead>\n",
       "    <tr style=\"text-align: right;\">\n",
       "      <th></th>\n",
       "      <th>Rank</th>\n",
       "      <th>Name</th>\n",
       "      <th>Platform</th>\n",
       "      <th>Year</th>\n",
       "      <th>Genre</th>\n",
       "      <th>Publisher</th>\n",
       "      <th>NA_Sales</th>\n",
       "      <th>EU_Sales</th>\n",
       "      <th>JP_Sales</th>\n",
       "      <th>Other_Sales</th>\n",
       "      <th>Global_Sales</th>\n",
       "    </tr>\n",
       "  </thead>\n",
       "  <tbody>\n",
       "    <tr>\n",
       "      <th>603</th>\n",
       "      <td>604</td>\n",
       "      <td>Madden NFL 13</td>\n",
       "      <td>PS3</td>\n",
       "      <td>2012.0</td>\n",
       "      <td>Sports</td>\n",
       "      <td>Electronic Arts</td>\n",
       "      <td>2.11</td>\n",
       "      <td>0.23</td>\n",
       "      <td>0.00</td>\n",
       "      <td>0.22</td>\n",
       "      <td>2.56</td>\n",
       "    </tr>\n",
       "    <tr>\n",
       "      <th>14997</th>\n",
       "      <td>15000</td>\n",
       "      <td>Wii de Asobu: Metroid Prime</td>\n",
       "      <td>Wii</td>\n",
       "      <td>2007.0</td>\n",
       "      <td>Shooter</td>\n",
       "      <td>Nintendo</td>\n",
       "      <td>0.00</td>\n",
       "      <td>0.00</td>\n",
       "      <td>0.02</td>\n",
       "      <td>0.00</td>\n",
       "      <td>0.02</td>\n",
       "    </tr>\n",
       "    <tr>\n",
       "      <th>14999</th>\n",
       "      <td>15002</td>\n",
       "      <td>Wii de Asobu: Metroid Prime</td>\n",
       "      <td>Wii</td>\n",
       "      <td>2007.0</td>\n",
       "      <td>Shooter</td>\n",
       "      <td>Nintendo</td>\n",
       "      <td>0.00</td>\n",
       "      <td>0.00</td>\n",
       "      <td>0.02</td>\n",
       "      <td>0.00</td>\n",
       "      <td>0.02</td>\n",
       "    </tr>\n",
       "    <tr>\n",
       "      <th>16127</th>\n",
       "      <td>16130</td>\n",
       "      <td>Madden NFL 13</td>\n",
       "      <td>PS3</td>\n",
       "      <td>2012.0</td>\n",
       "      <td>Sports</td>\n",
       "      <td>Electronic Arts</td>\n",
       "      <td>0.00</td>\n",
       "      <td>0.01</td>\n",
       "      <td>0.00</td>\n",
       "      <td>0.00</td>\n",
       "      <td>0.01</td>\n",
       "    </tr>\n",
       "  </tbody>\n",
       "</table>\n",
       "</div>"
      ],
      "text/plain": [
       "        Rank                         Name Platform    Year    Genre  \\\n",
       "603      604                Madden NFL 13      PS3  2012.0   Sports   \n",
       "14997  15000  Wii de Asobu: Metroid Prime      Wii  2007.0  Shooter   \n",
       "14999  15002  Wii de Asobu: Metroid Prime      Wii  2007.0  Shooter   \n",
       "16127  16130                Madden NFL 13      PS3  2012.0   Sports   \n",
       "\n",
       "             Publisher  NA_Sales  EU_Sales  JP_Sales  Other_Sales  \\\n",
       "603    Electronic Arts      2.11      0.23      0.00         0.22   \n",
       "14997         Nintendo      0.00      0.00      0.02         0.00   \n",
       "14999         Nintendo      0.00      0.00      0.02         0.00   \n",
       "16127  Electronic Arts      0.00      0.01      0.00         0.00   \n",
       "\n",
       "       Global_Sales  \n",
       "603            2.56  \n",
       "14997          0.02  \n",
       "14999          0.02  \n",
       "16127          0.01  "
      ]
     },
     "execution_count": 16,
     "metadata": {},
     "output_type": "execute_result"
    }
   ],
   "source": [
    "\n",
    "# Clave compuesta: Name + Platform + Year\n",
    "key = [\"Name\",\"Platform\",\"Year\"]\n",
    "dups = df.duplicated(subset=key, keep=False)\n",
    "dup_rows = df[dups]\n",
    "print(f\"Duplicados detectados: {dup_rows.shape[0]}\")\n",
    "dup_rows\n"
   ]
  },
  {
   "cell_type": "code",
   "execution_count": 17,
   "id": "b44e0312",
   "metadata": {},
   "outputs": [
    {
     "name": "stdout",
     "output_type": "stream",
     "text": [
      "Shape antes: (16598, 11) | después: (16596, 11)\n"
     ]
    }
   ],
   "source": [
    "\n",
    "# Deduplicación\n",
    "df_dedup = df.drop_duplicates(subset=key, keep=\"first\").reset_index(drop=True)\n",
    "print(f\"Shape antes: {df.shape} | después: {df_dedup.shape}\")\n"
   ]
  },
  {
   "cell_type": "markdown",
   "id": "d4961c75",
   "metadata": {},
   "source": [
    "### Comentario de justificación"
   ]
  },
  {
   "cell_type": "markdown",
   "id": "d4254500",
   "metadata": {},
   "source": [
    "**Duplicados (Name+Platform+Year):**\n",
    "Es posible que un mismo juego aparezca más de una vez si el scraping repitió entradas (ej. Tetris en GameBoy 1989). Mantener solo la primera ocurrencia evita inflar ventas de un mismo título sin perder información real."
   ]
  },
  {
   "cell_type": "markdown",
   "id": "35fa3c9f",
   "metadata": {},
   "source": [
    "## 3) Outliers"
   ]
  },
  {
   "cell_type": "code",
   "execution_count": 18,
   "id": "d9494dc5",
   "metadata": {},
   "outputs": [
    {
     "data": {
      "text/plain": [
       "Global_Sales    1893\n",
       "NA_Sales        1681\n",
       "EU_Sales        2081\n",
       "JP_Sales        2425\n",
       "Other_Sales     1665\n",
       "Name: outliers_detected, dtype: int64"
      ]
     },
     "execution_count": 18,
     "metadata": {},
     "output_type": "execute_result"
    }
   ],
   "source": [
    "\n",
    "def iqr_bounds(series):\n",
    "    q1, q3 = series.quantile([0.25,0.75])\n",
    "    iqr = q3 - q1\n",
    "    return q1-1.5*iqr, q3+1.5*iqr\n",
    "\n",
    "outlier_cols = [\"Global_Sales\",\"NA_Sales\",\"EU_Sales\",\"JP_Sales\",\"Other_Sales\"]\n",
    "outlier_counts = {}\n",
    "for col in outlier_cols:\n",
    "    low, up = iqr_bounds(df_dedup[col])\n",
    "    mask = (df_dedup[col] < low) | (df_dedup[col] > up)\n",
    "    outlier_counts[col] = int(mask.sum())\n",
    "\n",
    "pd.Series(outlier_counts, name=\"outliers_detected\")\n"
   ]
  },
  {
   "cell_type": "markdown",
   "id": "cc12730d",
   "metadata": {},
   "source": [
    "### Comentario de justificación"
   ]
  },
  {
   "cell_type": "markdown",
   "id": "d86516aa",
   "metadata": {},
   "source": [
    "**Justificación mejorada para outliers**\n",
    "\n",
    "Outliers (ventas extremas en Global_Sales):\n",
    "Títulos como Wii Sports o GTA V aparecen con ventas mucho más altas que el resto. Estos no son errores de captura: reflejan éxitos globales de la industria. Por eso no deben eliminarse.\n",
    "Para análisis estadístico, pueden distorsionar promedios y regresiones, así que se recomienda:\n",
    "\n",
    "  -Mantener los valores originales en el análisis descriptivo (porque son parte esencial del fenómeno).\n",
    "\n",
    "  -Crear variables transformadas (log(Global_Sales), cap en p99) para que los modelos predictivos no   estén dominados por unos pocos “megahits”."
   ]
  },
  {
   "cell_type": "code",
   "execution_count": 19,
   "id": "783d9182",
   "metadata": {},
   "outputs": [
    {
     "name": "stdout",
     "output_type": "stream",
     "text": [
      "Variables transformadas añadidas: ['Global_Sales_log', 'Global_Sales_cap']\n"
     ]
    },
    {
     "data": {
      "text/html": [
       "<div>\n",
       "<style scoped>\n",
       "    .dataframe tbody tr th:only-of-type {\n",
       "        vertical-align: middle;\n",
       "    }\n",
       "\n",
       "    .dataframe tbody tr th {\n",
       "        vertical-align: top;\n",
       "    }\n",
       "\n",
       "    .dataframe thead th {\n",
       "        text-align: right;\n",
       "    }\n",
       "</style>\n",
       "<table border=\"1\" class=\"dataframe\">\n",
       "  <thead>\n",
       "    <tr style=\"text-align: right;\">\n",
       "      <th></th>\n",
       "      <th>Rank</th>\n",
       "      <th>Name</th>\n",
       "      <th>Platform</th>\n",
       "      <th>Year</th>\n",
       "      <th>Genre</th>\n",
       "      <th>Publisher</th>\n",
       "      <th>NA_Sales</th>\n",
       "      <th>EU_Sales</th>\n",
       "      <th>JP_Sales</th>\n",
       "      <th>Other_Sales</th>\n",
       "      <th>Global_Sales</th>\n",
       "      <th>Global_Sales_log</th>\n",
       "      <th>Global_Sales_cap</th>\n",
       "    </tr>\n",
       "  </thead>\n",
       "  <tbody>\n",
       "    <tr>\n",
       "      <th>0</th>\n",
       "      <td>1</td>\n",
       "      <td>Wii Sports</td>\n",
       "      <td>Wii</td>\n",
       "      <td>2006.0</td>\n",
       "      <td>Sports</td>\n",
       "      <td>Nintendo</td>\n",
       "      <td>41.49</td>\n",
       "      <td>29.02</td>\n",
       "      <td>3.77</td>\n",
       "      <td>8.46</td>\n",
       "      <td>82.74</td>\n",
       "      <td>4.427717</td>\n",
       "      <td>5.431</td>\n",
       "    </tr>\n",
       "    <tr>\n",
       "      <th>1</th>\n",
       "      <td>2</td>\n",
       "      <td>Super Mario Bros.</td>\n",
       "      <td>NES</td>\n",
       "      <td>1985.0</td>\n",
       "      <td>Platform</td>\n",
       "      <td>Nintendo</td>\n",
       "      <td>29.08</td>\n",
       "      <td>3.58</td>\n",
       "      <td>6.81</td>\n",
       "      <td>0.77</td>\n",
       "      <td>40.24</td>\n",
       "      <td>3.719409</td>\n",
       "      <td>5.431</td>\n",
       "    </tr>\n",
       "    <tr>\n",
       "      <th>2</th>\n",
       "      <td>3</td>\n",
       "      <td>Mario Kart Wii</td>\n",
       "      <td>Wii</td>\n",
       "      <td>2008.0</td>\n",
       "      <td>Racing</td>\n",
       "      <td>Nintendo</td>\n",
       "      <td>15.85</td>\n",
       "      <td>12.88</td>\n",
       "      <td>3.79</td>\n",
       "      <td>3.31</td>\n",
       "      <td>35.82</td>\n",
       "      <td>3.606041</td>\n",
       "      <td>5.431</td>\n",
       "    </tr>\n",
       "    <tr>\n",
       "      <th>3</th>\n",
       "      <td>4</td>\n",
       "      <td>Wii Sports Resort</td>\n",
       "      <td>Wii</td>\n",
       "      <td>2009.0</td>\n",
       "      <td>Sports</td>\n",
       "      <td>Nintendo</td>\n",
       "      <td>15.75</td>\n",
       "      <td>11.01</td>\n",
       "      <td>3.28</td>\n",
       "      <td>2.96</td>\n",
       "      <td>33.00</td>\n",
       "      <td>3.526361</td>\n",
       "      <td>5.431</td>\n",
       "    </tr>\n",
       "    <tr>\n",
       "      <th>4</th>\n",
       "      <td>5</td>\n",
       "      <td>Pokemon Red/Pokemon Blue</td>\n",
       "      <td>GB</td>\n",
       "      <td>1996.0</td>\n",
       "      <td>Role-Playing</td>\n",
       "      <td>Nintendo</td>\n",
       "      <td>11.27</td>\n",
       "      <td>8.89</td>\n",
       "      <td>10.22</td>\n",
       "      <td>1.00</td>\n",
       "      <td>31.37</td>\n",
       "      <td>3.477232</td>\n",
       "      <td>5.431</td>\n",
       "    </tr>\n",
       "  </tbody>\n",
       "</table>\n",
       "</div>"
      ],
      "text/plain": [
       "   Rank                      Name Platform    Year         Genre Publisher  \\\n",
       "0     1                Wii Sports      Wii  2006.0        Sports  Nintendo   \n",
       "1     2         Super Mario Bros.      NES  1985.0      Platform  Nintendo   \n",
       "2     3            Mario Kart Wii      Wii  2008.0        Racing  Nintendo   \n",
       "3     4         Wii Sports Resort      Wii  2009.0        Sports  Nintendo   \n",
       "4     5  Pokemon Red/Pokemon Blue       GB  1996.0  Role-Playing  Nintendo   \n",
       "\n",
       "   NA_Sales  EU_Sales  JP_Sales  Other_Sales  Global_Sales  Global_Sales_log  \\\n",
       "0     41.49     29.02      3.77         8.46         82.74          4.427717   \n",
       "1     29.08      3.58      6.81         0.77         40.24          3.719409   \n",
       "2     15.85     12.88      3.79         3.31         35.82          3.606041   \n",
       "3     15.75     11.01      3.28         2.96         33.00          3.526361   \n",
       "4     11.27      8.89     10.22         1.00         31.37          3.477232   \n",
       "\n",
       "   Global_Sales_cap  \n",
       "0             5.431  \n",
       "1             5.431  \n",
       "2             5.431  \n",
       "3             5.431  \n",
       "4             5.431  "
      ]
     },
     "execution_count": 19,
     "metadata": {},
     "output_type": "execute_result"
    }
   ],
   "source": [
    "\n",
    "df_final = df_dedup.copy()\n",
    "df_final[\"Global_Sales_log\"] = np.log1p(df_final[\"Global_Sales\"])\n",
    "p99 = df_final[\"Global_Sales\"].quantile(0.99)\n",
    "df_final[\"Global_Sales_cap\"] = df_final[\"Global_Sales\"].clip(upper=p99)\n",
    "print(\"Variables transformadas añadidas:\", [\"Global_Sales_log\",\"Global_Sales_cap\"])\n",
    "df_final.head()\n"
   ]
  },
  {
   "cell_type": "markdown",
   "id": "4c6b9dd2",
   "metadata": {},
   "source": [
    "## 4) Resumen"
   ]
  },
  {
   "cell_type": "code",
   "execution_count": 20,
   "id": "7b2c0a3b",
   "metadata": {},
   "outputs": [
    {
     "data": {
      "text/plain": [
       "{'missing_total_after': 0,\n",
       " 'rows_after_dedup': 16596,\n",
       " 'outliers_detected': {'Global_Sales': 1893,\n",
       "  'NA_Sales': 1681,\n",
       "  'EU_Sales': 2081,\n",
       "  'JP_Sales': 2425,\n",
       "  'Other_Sales': 1665}}"
      ]
     },
     "execution_count": 20,
     "metadata": {},
     "output_type": "execute_result"
    }
   ],
   "source": [
    "\n",
    "summary = {\n",
    "    \"missing_total_after\": int(df_final.isna().sum().sum()),\n",
    "    \"rows_after_dedup\": int(df_final.shape[0]),\n",
    "    \"outliers_detected\": outlier_counts\n",
    "}\n",
    "summary\n"
   ]
  },
  {
   "cell_type": "markdown",
   "id": "ac29a775",
   "metadata": {},
   "source": [
    "Imputación de categóricas con moda → en variables como Publisher o Genre, la moda refleja la categoría más común en la industria y permite retener registros incompletos sin inventar etiquetas artificiales.\n",
    "\n",
    "Imputación de numéricas con mediana → en Year of Release, la mediana suaviza la influencia de valores extremos (juegos muy antiguos o recientes) y mantiene coherencia temporal.\n",
    "\n",
    "Eliminación de duplicados → se detectaron y removieron entradas repetidas bajo la clave Name + Platform + Year, evitando inflar ventas de un mismo título.\n",
    "\n",
    "Outliers detectados y conservados → ventas extremas (ej. Wii Sports, GTA V) no son errores, sino fenómenos reales de mercado. Se mantuvieron para análisis descriptivo, pero se añadieron variables transformadas (log y capping p99) para su uso en modelado."
   ]
  },
  {
   "cell_type": "markdown",
   "id": "933dae77",
   "metadata": {},
   "source": [
    "## Visualización 1 — Juegos por **rangos** de ventas globales\n",
    "**Qué es `Global_Sales`:** ventas mundiales de cada juego en **millones de copias**.\n",
    "\n",
    "**Gráfico:** contamos cuántos juegos hay en cada **rango de ventas** (en millones). Esto es más legible que un histograma continuo.\n",
    "\n",
    "**Insight:** La mayoría de títulos venden **menos de 1M**; cada vez hay menos juegos conforme suben los rangos. Los \"megahits\" (≥20M) son raros pero relevantes para el mercado."
   ]
  },
  {
   "cell_type": "code",
   "execution_count": 21,
   "id": "e5ebe0c6",
   "metadata": {},
   "outputs": [
    {
     "data": {
      "image/png": "[encoded data removed]",
      "text/plain": [
       "<Figure size 800x500 with 1 Axes>"
      ]
     },
     "metadata": {},
     "output_type": "display_data"
    },
    {
     "name": "stdout",
     "output_type": "stream",
     "text": [
      "Distribución (% de juegos por rango):\n"
     ]
    },
    {
     "data": {
      "text/html": [
       "<div>\n",
       "<style scoped>\n",
       "    .dataframe tbody tr th:only-of-type {\n",
       "        vertical-align: middle;\n",
       "    }\n",
       "\n",
       "    .dataframe tbody tr th {\n",
       "        vertical-align: top;\n",
       "    }\n",
       "\n",
       "    .dataframe thead th {\n",
       "        text-align: right;\n",
       "    }\n",
       "</style>\n",
       "<table border=\"1\" class=\"dataframe\">\n",
       "  <thead>\n",
       "    <tr style=\"text-align: right;\">\n",
       "      <th></th>\n",
       "      <th>porcentaje_%</th>\n",
       "    </tr>\n",
       "    <tr>\n",
       "      <th>GlobalSales_Range</th>\n",
       "      <th></th>\n",
       "    </tr>\n",
       "  </thead>\n",
       "  <tbody>\n",
       "    <tr>\n",
       "      <th>&lt;1</th>\n",
       "      <td>87.5</td>\n",
       "    </tr>\n",
       "    <tr>\n",
       "      <th>1–5</th>\n",
       "      <td>11.3</td>\n",
       "    </tr>\n",
       "    <tr>\n",
       "      <th>5–10</th>\n",
       "      <td>0.9</td>\n",
       "    </tr>\n",
       "    <tr>\n",
       "      <th>10–20</th>\n",
       "      <td>0.3</td>\n",
       "    </tr>\n",
       "    <tr>\n",
       "      <th>20–50</th>\n",
       "      <td>0.1</td>\n",
       "    </tr>\n",
       "    <tr>\n",
       "      <th>50–100</th>\n",
       "      <td>0.0</td>\n",
       "    </tr>\n",
       "    <tr>\n",
       "      <th>≥100</th>\n",
       "      <td>0.0</td>\n",
       "    </tr>\n",
       "  </tbody>\n",
       "</table>\n",
       "</div>"
      ],
      "text/plain": [
       "                   porcentaje_%\n",
       "GlobalSales_Range              \n",
       "<1                         87.5\n",
       "1–5                        11.3\n",
       "5–10                        0.9\n",
       "10–20                       0.3\n",
       "20–50                       0.1\n",
       "50–100                      0.0\n",
       "≥100                        0.0"
      ]
     },
     "metadata": {},
     "output_type": "display_data"
    }
   ],
   "source": [
    "import numpy as np\n",
    "import pandas as pd\n",
    "import matplotlib.pyplot as plt\n",
    "\n",
    "# Asegurar que existe df_final (salida del pipeline de calidad)\n",
    "df_vis = df_final.copy() if 'df_final' in globals() else df_dedup.copy()\n",
    "\n",
    "# Definir rangos (millones)\n",
    "bins = [0, 1, 5, 10, 20, 50, 100, np.inf]\n",
    "labels = [\"<1\", \"1–5\", \"5–10\", \"10–20\", \"20–50\", \"50–100\", \"≥100\"]\n",
    "\n",
    "df_vis['GlobalSales_Range'] = pd.cut(df_vis['Global_Sales'], bins=bins, labels=labels, include_lowest=True, right=False)\n",
    "count_by_range = df_vis['GlobalSales_Range'].value_counts().reindex(labels).fillna(0).astype(int)\n",
    "pct_by_range = (count_by_range / count_by_range.sum() * 100).round(1)\n",
    "\n",
    "plt.figure(figsize=(8,5))\n",
    "count_by_range.plot(kind='bar')\n",
    "plt.title('Número de juegos por rango de ventas globales (millones de copias)')\n",
    "plt.xlabel('Rango de ventas (millones)')\n",
    "plt.ylabel('Cantidad de juegos')\n",
    "plt.xticks(rotation=0)\n",
    "plt.tight_layout()\n",
    "plt.show()\n",
    "\n",
    "print('Distribución (% de juegos por rango):')\n",
    "display(pct_by_range.to_frame('porcentaje_%'))\n"
   ]
  },
  {
   "cell_type": "markdown",
   "id": "4b630fc7",
   "metadata": {},
   "source": [
    "## Visualización 2 — Global_Sales por Género\n",
    "Un boxplot muestra la variación de ventas por género.\n",
    "**Insight:** Géneros como *Shooter* y *Sports* tienen medianas más altas, lo que indica mayor propensión al éxito."
   ]
  },
  {
   "cell_type": "code",
   "execution_count": 22,
   "id": "53e01ed2",
   "metadata": {},
   "outputs": [
    {
     "name": "stderr",
     "output_type": "stream",
     "text": [
      "C:\\Users\\trick\\AppData\\Local\\Temp\\ipykernel_25008\\336651109.py:4: MatplotlibDeprecationWarning: The 'labels' parameter of boxplot() has been renamed 'tick_labels' since Matplotlib 3.9; support for the old name will be dropped in 3.11.\n",
      "  plt.boxplot(data, labels=order, showmeans=True)\n"
     ]
    },
    {
     "data": {
      "image/png": "[encoded data removed]",
      "text/plain": [
       "<Figure size 800x500 with 1 Axes>"
      ]
     },
     "metadata": {},
     "output_type": "display_data"
    }
   ],
   "source": [
    "\n",
    "plt.figure(figsize=(8,5))\n",
    "order = df_final.groupby(\"Genre\")[\"Global_Sales\"].median().sort_values(ascending=False).index\n",
    "data = [df_final.loc[df_final[\"Genre\"]==g, \"Global_Sales\"].values for g in order]\n",
    "plt.boxplot(data, labels=order, showmeans=True)\n",
    "plt.title(\"Global_Sales por Género\")\n",
    "plt.xlabel(\"Género\")\n",
    "plt.ylabel(\"Ventas Globales (millones)\")\n",
    "plt.xticks(rotation=45)\n",
    "plt.tight_layout()\n",
    "plt.show()\n"
   ]
  },
  {
   "cell_type": "markdown",
   "id": "74229acf",
   "metadata": {},
   "source": [
    "## Visualización 3 — Promedio de Global_Sales por Plataforma (Top 10)\n",
    "Se grafican las plataformas con mayor promedio de ventas.\n",
    "**Insight:** Consolas como Wii y PS4 muestran un desempeño promedio muy superior, lo que evidencia su peso en la industria."
   ]
  },
  {
   "cell_type": "code",
   "execution_count": 23,
   "id": "6372d451",
   "metadata": {},
   "outputs": [
    {
     "data": {
      "image/png": "[encoded data removed]",
      "text/plain": [
       "<Figure size 800x500 with 1 Axes>"
      ]
     },
     "metadata": {},
     "output_type": "display_data"
    }
   ],
   "source": [
    "\n",
    "plt.figure(figsize=(8,5))\n",
    "avg_platform = df_final.groupby(\"Platform\")[\"Global_Sales\"].mean().sort_values(ascending=False).head(10)\n",
    "avg_platform.plot(kind=\"bar\")\n",
    "plt.title(\"Promedio de Global_Sales por Plataforma (Top 10)\")\n",
    "plt.xlabel(\"Plataforma\")\n",
    "plt.ylabel(\"Promedio de Ventas Globales (millones)\")\n",
    "plt.xticks(rotation=45)\n",
    "plt.tight_layout()\n",
    "plt.show()\n"
   ]
  }
 ],
 "metadata": {
  "kernelspec": {
   "display_name": "Python 3",
   "language": "python",
   "name": "python3"
  },
  "language_info": {
   "codemirror_mode": {
    "name": "ipython",
    "version": 3
   },
   "file_extension": ".py",
   "mimetype": "text/x-python",
   "name": "python",
   "nbconvert_exporter": "python",
   "pygments_lexer": "ipython3",
   "version": "3.10.11"
  }
 },
 "nbformat": 4,
 "nbformat_minor": 5
}
